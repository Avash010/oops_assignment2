{
 "cells": [
  {
   "cell_type": "markdown",
   "id": "e62f8e13-09ca-4e14-9350-991d4979230c",
   "metadata": {},
   "source": [
    "## Q1. Explain Class and Object with respect to Object-Oriented Programming. Give a suitable example"
   ]
  },
  {
   "cell_type": "code",
   "execution_count": 1,
   "id": "e1c817ea-1ff3-4620-8e74-1edba41bf4fc",
   "metadata": {},
   "outputs": [],
   "source": [
    "# A class is a blueprint that defines classification of real world entity and characteristics & behaviors of particular type of object.\n",
    "# An Object is an instance of a class, it represents particular entity that defined by the class."
   ]
  },
  {
   "cell_type": "code",
   "execution_count": 10,
   "id": "f3d9f72e-dbc1-4293-93de-d6391610d439",
   "metadata": {},
   "outputs": [],
   "source": [
    "class pub:\n",
    "    \n",
    "    def __init__(self, name, gender, entry_type):\n",
    "        self.name = name\n",
    "        self.gender = gender\n",
    "        self.entry_type = entry_type\n",
    "        \n",
    "    def pub_member_details(self):\n",
    "        return self.name, self.gender, self.entry_type\n",
    "# here class 'pub' has many attributes such as name, gender, entry_type etc. that represents the concept of a pub."
   ]
  },
  {
   "cell_type": "code",
   "execution_count": 11,
   "id": "0f8baa3b-3bb9-43c5-b6cc-2307413842c4",
   "metadata": {},
   "outputs": [],
   "source": [
    "pub_memb1 = pub(\"Anand\", \"Male\", \"Stag\")\n",
    "pub_memb2 = pub(\"Prachi\", \"Female\", \"Couple\")\n",
    "# here 'pub_memb1' & 'pub_memb2' are objects of class pub."
   ]
  },
  {
   "cell_type": "code",
   "execution_count": 13,
   "id": "21cebaf5-ce51-4b07-b374-ebd37d45d2aa",
   "metadata": {},
   "outputs": [
    {
     "data": {
      "text/plain": [
       "('Anand', 'Male', 'Stag')"
      ]
     },
     "execution_count": 13,
     "metadata": {},
     "output_type": "execute_result"
    }
   ],
   "source": [
    "pub_memb1.pub_member_details()"
   ]
  },
  {
   "cell_type": "code",
   "execution_count": 14,
   "id": "db19acfd-d272-4d14-815d-c98c3bae582a",
   "metadata": {},
   "outputs": [
    {
     "data": {
      "text/plain": [
       "('Prachi', 'Female', 'Couple')"
      ]
     },
     "execution_count": 14,
     "metadata": {},
     "output_type": "execute_result"
    }
   ],
   "source": [
    "pub_memb2.pub_member_details()"
   ]
  },
  {
   "cell_type": "markdown",
   "id": "1855a7aa-d104-44a7-8384-fc301ae8076a",
   "metadata": {},
   "source": [
    "# Q2. Name the four pillars of OOPs."
   ]
  },
  {
   "cell_type": "code",
   "execution_count": null,
   "id": "8853c504-cbba-472a-ba11-5155350c36db",
   "metadata": {},
   "outputs": [],
   "source": [
    "# The Four pillars of OOPs are abstraction, encapsulation, inheritance and polymorphism."
   ]
  },
  {
   "cell_type": "markdown",
   "id": "cd3a4b6e-02eb-4d48-87e4-a4ac161e6fda",
   "metadata": {},
   "source": [
    "# Q3. Explain why the __init__() function is used. Give a suitable example."
   ]
  },
  {
   "cell_type": "code",
   "execution_count": 1,
   "id": "523967f0-003f-4bc5-8587-1eae74233036",
   "metadata": {},
   "outputs": [],
   "source": [
    "# init() function is used as a constructor to pass different types of data.\n",
    "# It runs whenever a new object is created.\n",
    "# It is used to initialize the attributes of the object and perform necessary tasks."
   ]
  },
  {
   "cell_type": "code",
   "execution_count": 2,
   "id": "40f5e44c-faf4-4b9c-9aed-5922d53f387b",
   "metadata": {},
   "outputs": [],
   "source": [
    "class college:\n",
    "    def __init__(self, college_name, batch):\n",
    "        self.college_name = college_name\n",
    "        self.batch = batch\n",
    "\n",
    "    def introduce(self):\n",
    "        print(f\"Hi, I am from {self.college_name} of {self.batch}.\")"
   ]
  },
  {
   "cell_type": "code",
   "execution_count": 3,
   "id": "c1fa55d5-d180-4608-b7d8-37b0081d1f5d",
   "metadata": {},
   "outputs": [],
   "source": [
    "stud1 = college(\"Newton College\", \"2015 Batch\")"
   ]
  },
  {
   "cell_type": "code",
   "execution_count": 4,
   "id": "cfee9332-8e6f-44b5-950a-7b350afcd0c4",
   "metadata": {},
   "outputs": [
    {
     "name": "stdout",
     "output_type": "stream",
     "text": [
      "Newton College\n"
     ]
    }
   ],
   "source": [
    "print(stud1.college_name) "
   ]
  },
  {
   "cell_type": "code",
   "execution_count": 5,
   "id": "47339d2f-b883-40b4-b0e2-43f6969763a7",
   "metadata": {},
   "outputs": [
    {
     "name": "stdout",
     "output_type": "stream",
     "text": [
      "2015 Batch\n"
     ]
    }
   ],
   "source": [
    "print(stud1.batch) "
   ]
  },
  {
   "cell_type": "code",
   "execution_count": 6,
   "id": "4b35b21b-ee82-4d14-8524-cc10b4002889",
   "metadata": {},
   "outputs": [],
   "source": [
    "stud2 = college(\"Gandhi College\", \"2020 Batch\")"
   ]
  },
  {
   "cell_type": "code",
   "execution_count": 7,
   "id": "0d397b85-5911-46fe-995d-10d21d3e12b5",
   "metadata": {},
   "outputs": [
    {
     "name": "stdout",
     "output_type": "stream",
     "text": [
      "Gandhi College\n"
     ]
    }
   ],
   "source": [
    "print(stud2.college_name) "
   ]
  },
  {
   "cell_type": "code",
   "execution_count": 8,
   "id": "94f42b4e-e2e0-418a-898b-3a9bf865d931",
   "metadata": {},
   "outputs": [
    {
     "name": "stdout",
     "output_type": "stream",
     "text": [
      "2020 Batch\n"
     ]
    }
   ],
   "source": [
    "print(stud2.batch) "
   ]
  },
  {
   "cell_type": "code",
   "execution_count": 9,
   "id": "ca4fe540-5e49-4a7d-bb5c-d26d3ddcaf45",
   "metadata": {},
   "outputs": [
    {
     "name": "stdout",
     "output_type": "stream",
     "text": [
      "Hi, I am from Newton College of 2015 Batch.\n"
     ]
    }
   ],
   "source": [
    "stud1.introduce()    "
   ]
  },
  {
   "cell_type": "code",
   "execution_count": 10,
   "id": "e2bdcd5a-8317-48d3-a5db-772955c88e62",
   "metadata": {},
   "outputs": [
    {
     "name": "stdout",
     "output_type": "stream",
     "text": [
      "Hi, I am from Gandhi College of 2020 Batch.\n"
     ]
    }
   ],
   "source": [
    "stud2.introduce() "
   ]
  },
  {
   "cell_type": "markdown",
   "id": "89f7a252-a065-43cb-a7c3-47a7748570d9",
   "metadata": {},
   "source": [
    "# Q4. Why self is used in OOPs?"
   ]
  },
  {
   "cell_type": "code",
   "execution_count": 11,
   "id": "8371e249-47d8-4324-9c16-d4a122ddeb46",
   "metadata": {},
   "outputs": [],
   "source": [
    "# self represents the instance of the class.\n",
    "# By using the “self” we can access the attributes and methods of the class in python.\n",
    "# ex: self.name refers to the name attribute of the object."
   ]
  },
  {
   "cell_type": "markdown",
   "id": "1f40c2b1-ca28-4f5a-882e-29177ba91f70",
   "metadata": {},
   "source": [
    "# Q5. What is inheritance? Give an example for each type of inheritance."
   ]
  },
  {
   "cell_type": "code",
   "execution_count": 1,
   "id": "3b3e1f2a-26d6-4164-badd-5124724bb3ff",
   "metadata": {},
   "outputs": [],
   "source": [
    "# Inheritance inherit parent class properties and methods into child class.\n",
    "# A class can inherit from one or more parent classes to create a subclass."
   ]
  },
  {
   "cell_type": "code",
   "execution_count": 2,
   "id": "d5d2e5b7-3e4c-4c50-91ff-cc0beb860e1b",
   "metadata": {},
   "outputs": [],
   "source": [
    "# Single inheritance involves a subclass inheriting from a single parent class.\n",
    "\n",
    "class vehicle:\n",
    "    def __init__(self, name):\n",
    "        self.name = name\n",
    "\n",
    "    def speed(self):\n",
    "        print(f\"{self.name} is a super bike.\")\n",
    "\n",
    "\n",
    "class bike(vehicle):\n",
    "    def speed(self):\n",
    "        print(f\"{self.name}'s top speed is 300km/h.\")"
   ]
  },
  {
   "cell_type": "code",
   "execution_count": 3,
   "id": "dd250842-d728-4644-bd36-0d014a840369",
   "metadata": {},
   "outputs": [],
   "source": [
    "bike1 = bike(\"Ninja ZX-10R\")"
   ]
  },
  {
   "cell_type": "code",
   "execution_count": 4,
   "id": "47b39c16-db01-4dea-89ad-2b3139e6807f",
   "metadata": {},
   "outputs": [
    {
     "name": "stdout",
     "output_type": "stream",
     "text": [
      "Ninja ZX-10R's top speed is 300km/h.\n"
     ]
    }
   ],
   "source": [
    "bike1.speed()"
   ]
  },
  {
   "cell_type": "code",
   "execution_count": 5,
   "id": "5ffdd9ce-697b-4345-a980-02338f0c5897",
   "metadata": {},
   "outputs": [],
   "source": [
    "# Multilevel inheritance involves a subclass inheriting from another subclass.\n",
    "\n",
    "class vehicle:\n",
    "    def __init__(self, name):\n",
    "        self.name = name\n",
    "\n",
    "    def speed(self):\n",
    "        print(f\"{self.name} is a super bike.\")\n",
    "\n",
    "\n",
    "class bike(vehicle):\n",
    "    def speed(self):\n",
    "        print(f\"{self.name}'s top speed is 300km/h.\")\n",
    "\n",
    "\n",
    "class super_bike(vehicle):\n",
    "    def mileage(self):\n",
    "        print(f\"{self.name}'s mileage is 12kmpl\")"
   ]
  },
  {
   "cell_type": "code",
   "execution_count": 7,
   "id": "16e253b2-2368-4c3e-a3af-e8d410b16cc4",
   "metadata": {},
   "outputs": [],
   "source": [
    "superbike = super_bike(\"Ninja ZX-10R\")"
   ]
  },
  {
   "cell_type": "code",
   "execution_count": 8,
   "id": "66d52f4b-8af9-49a0-826a-6b83277ab264",
   "metadata": {},
   "outputs": [
    {
     "name": "stdout",
     "output_type": "stream",
     "text": [
      "Ninja ZX-10R is a super bike.\n"
     ]
    }
   ],
   "source": [
    "superbike.speed()"
   ]
  },
  {
   "cell_type": "code",
   "execution_count": 9,
   "id": "ee2f56c1-e23a-4099-bfac-77ff7fdb63b4",
   "metadata": {},
   "outputs": [
    {
     "name": "stdout",
     "output_type": "stream",
     "text": [
      "Ninja ZX-10R's mileage is 12kmpl\n"
     ]
    }
   ],
   "source": [
    "superbike.mileage()"
   ]
  },
  {
   "cell_type": "code",
   "execution_count": 10,
   "id": "0b7d47c5-8870-403c-9066-f6acc1b16514",
   "metadata": {},
   "outputs": [],
   "source": [
    "# Multiple inheritance allows a subclass to inherit from multiple parent classes.\n",
    "\n",
    "class dad:\n",
    "    def test_dad(self):\n",
    "        return \"Eyes are similar to Dad\"\n",
    "\n",
    "class mom:\n",
    "    def test_mom(self):\n",
    "        return \"Nose is similar to Mom\"\n",
    "\n",
    "\n",
    "class child(dad,mom):\n",
    "    pass"
   ]
  },
  {
   "cell_type": "code",
   "execution_count": 11,
   "id": "5e7503de-184e-43a8-a1f5-739a704419c4",
   "metadata": {},
   "outputs": [],
   "source": [
    "child_obj = child()"
   ]
  },
  {
   "cell_type": "code",
   "execution_count": 12,
   "id": "a40565ef-7f28-46fe-8a9d-49d23fcf970a",
   "metadata": {},
   "outputs": [
    {
     "data": {
      "text/plain": [
       "'Eyes are similar to Dad'"
      ]
     },
     "execution_count": 12,
     "metadata": {},
     "output_type": "execute_result"
    }
   ],
   "source": [
    "child_obj.test_dad()"
   ]
  },
  {
   "cell_type": "code",
   "execution_count": 13,
   "id": "d931eba6-3cd0-460e-99eb-1ab93abdf678",
   "metadata": {},
   "outputs": [
    {
     "data": {
      "text/plain": [
       "'Nose is similar to Mom'"
      ]
     },
     "execution_count": 13,
     "metadata": {},
     "output_type": "execute_result"
    }
   ],
   "source": [
    "child_obj.test_mom()"
   ]
  }
 ],
 "metadata": {
  "kernelspec": {
   "display_name": "Python 3 (ipykernel)",
   "language": "python",
   "name": "python3"
  },
  "language_info": {
   "codemirror_mode": {
    "name": "ipython",
    "version": 3
   },
   "file_extension": ".py",
   "mimetype": "text/x-python",
   "name": "python",
   "nbconvert_exporter": "python",
   "pygments_lexer": "ipython3",
   "version": "3.10.8"
  }
 },
 "nbformat": 4,
 "nbformat_minor": 5
}
